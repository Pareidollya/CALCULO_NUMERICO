{
  "nbformat": 4,
  "nbformat_minor": 0,
  "metadata": {
    "colab": {
      "provenance": [],
      "authorship_tag": "ABX9TyPZ3uT6MknOSCLd6ZNmPM/y",
      "include_colab_link": true
    },
    "kernelspec": {
      "name": "python3",
      "display_name": "Python 3"
    },
    "language_info": {
      "name": "python"
    }
  },
  "cells": [
    {
      "cell_type": "markdown",
      "metadata": {
        "id": "view-in-github",
        "colab_type": "text"
      },
      "source": [
        "<a href=\"https://colab.research.google.com/github/Pareiollya/CALCULO_NUMERICO/blob/main/matodos_unidade_1.ipynb\" target=\"_parent\"><img src=\"https://colab.research.google.com/assets/colab-badge.svg\" alt=\"Open In Colab\"/></a>"
      ]
    },
    {
      "cell_type": "code",
      "source": [
        "import numpy as np\n",
        "import matplotlib.pyplot as plt\n",
        "import math as m\n",
        "import sympy as sym "
      ],
      "metadata": {
        "id": "eSWHmaxqB00n"
      },
      "execution_count": 108,
      "outputs": []
    },
    {
      "cell_type": "markdown",
      "source": [
        "gerar um grafico"
      ],
      "metadata": {
        "id": "7Cg_yUVXCJmA"
      }
    },
    {
      "cell_type": "code",
      "execution_count": 109,
      "metadata": {
        "id": "qNlhf87SjRVT"
      },
      "outputs": [],
      "source": [
        "def showPlot(f, intervalo1, intervalo2):\n",
        "  # Definir o intervalo\n",
        "  x = np.linspace(intervalo1, intervalo2, 1000)\n",
        "\n",
        "  # Calcular os valores da função para cada ponto no intervalo\n",
        "  y = f(x)\n",
        "\n",
        "  # Criar o gráfico\n",
        "  plt.plot(x, y)\n",
        "  plt.axhline(y=0, color='black', linestyle='--')\n",
        "  plt.xlabel('x')\n",
        "  plt.ylabel('f(x)')\n",
        "  plt.title('Gráfico da função f(x)')\n",
        "  plt.show()\n",
        "\n",
        "# Definir a função\n",
        "# def f(x):\n",
        "#     return x**3 - 9*x + 3\n",
        "#     # return x**2 + x - 6\n",
        "\n",
        "# showPlot(f)\n",
        "\n"
      ]
    },
    {
      "cell_type": "markdown",
      "source": [
        "FUNÇÃO e DERIVADA."
      ],
      "metadata": {
        "id": "-225oWWXbm6u"
      }
    },
    {
      "cell_type": "code",
      "source": [
        "def f(x):\n",
        "    #  x**3 - 9*x + 3 \n",
        "    return x**2 + x - 6  \n",
        "\n",
        "def df(x):\n",
        "    # 2*x + 1\n",
        "    return  3*x**2 - 9\n",
        "\n",
        "\n",
        "showPlot(f, -5, 5)"
      ],
      "metadata": {
        "colab": {
          "base_uri": "https://localhost:8080/",
          "height": 295
        },
        "id": "reCuj96qbdzn",
        "outputId": "88ef49d5-a9df-49ef-f43c-787b11775629"
      },
      "execution_count": 110,
      "outputs": [
        {
          "output_type": "display_data",
          "data": {
            "text/plain": [
              "<Figure size 432x288 with 1 Axes>"
            ],
            "image/png": "[encoded data removed]"
          },
          "metadata": {
            "needs_background": "light"
          }
        }
      ]
    },
    {
      "cell_type": "markdown",
      "source": [
        "VARIÁVEIS GLOBAIS\n"
      ],
      "metadata": {
        "id": "qT3CAvledK6E"
      }
    },
    {
      "cell_type": "code",
      "source": [
        "#pontos de intervalo\n",
        "x0 = 1.5\n",
        "x1 = 1.7\n",
        "\n",
        "#configurações de iteração\n",
        "tolerancia = 1e-6\n",
        "max_iter = 100\n"
      ],
      "metadata": {
        "id": "V3PRgjsLdOiE"
      },
      "execution_count": 111,
      "outputs": []
    },
    {
      "cell_type": "markdown",
      "source": [
        "."
      ],
      "metadata": {
        "id": "MWH-0r6QJf-Z"
      }
    },
    {
      "cell_type": "markdown",
      "source": [
        "BISSEÇÃO"
      ],
      "metadata": {
        "id": "jRurdjm7c6pl"
      }
    },
    {
      "cell_type": "code",
      "source": [
        "def bissecao(f, a, b, tol = 1e-6, max_iter = 100):\n",
        "    iter = 0\n",
        "    c = 0\n",
        "    if f(a) * f(b) >= 0:\n",
        "        print(f\"O método não convergiu em {max_iter} iterações, resultado {x1}\")\n",
        "        return None\n",
        "    while abs((b-a)/2) > tol and iter < max_iter:\n",
        "        c = (a + b)/2\n",
        "        if f(c) == 0:\n",
        "            return c\n",
        "        elif f(a)*f(c) < 0:\n",
        "            b = c\n",
        "        else:\n",
        "            a = c\n",
        "        iter += 1\n",
        "        \n",
        "    # print(f\"A raiz aproximada da função é {c} com {iter} iterações.\")\n",
        "    return c, iter\n",
        "\n",
        "    "
      ],
      "metadata": {
        "id": "72H6ottic5pe"
      },
      "execution_count": 112,
      "outputs": []
    },
    {
      "cell_type": "code",
      "source": [
        "def f(x):\n",
        "    return x**3 - 9*x + 3 \n",
        "\n",
        "x, i = bissecao(f, 0, 1, 1e-3, 100)\n",
        "print(f\"A raiz aproximada da função é {x} com {i} iterações.\")"
      ],
      "metadata": {
        "colab": {
          "base_uri": "https://localhost:8080/"
        },
        "id": "7waWcEPPpDRz",
        "outputId": "49d9f2ca-02c3-4e36-b3b9-628adae15763"
      },
      "execution_count": 113,
      "outputs": [
        {
          "output_type": "stream",
          "name": "stdout",
          "text": [
            "A raiz aproximada da função é 0.337890625 com 9 iterações.\n"
          ]
        }
      ]
    },
    {
      "cell_type": "markdown",
      "source": [
        "."
      ],
      "metadata": {
        "id": "4dfe4x3GJe9c"
      }
    },
    {
      "cell_type": "markdown",
      "source": [
        "POSIÇÃO FALSA\n"
      ],
      "metadata": {
        "id": "b193X9tttXIw"
      }
    },
    {
      "cell_type": "code",
      "source": [
        "def posicao_falsa(f, a, b, tol = 1e-6, max_iter = 100):\n",
        "    i = 0\n",
        "    while i < max_iter:\n",
        "        fa = f(a)\n",
        "        fb = f(b)\n",
        "        c = (a*fb - b*fa) / (fb - fa)\n",
        "        if abs(f(c)) < tol:\n",
        "            return c, i\n",
        "        elif fa * f(c) < 0:\n",
        "            b = c\n",
        "        else:\n",
        "            a = c\n",
        "        i += 1\n",
        "    raise Exception(f\"O método não convergiu em {max_iter} iterações, resultado {x1}\")"
      ],
      "metadata": {
        "id": "2Qpz7_-utZN5"
      },
      "execution_count": 114,
      "outputs": []
    },
    {
      "cell_type": "code",
      "source": [
        "def f(x):\n",
        "    return x**3 - 9*x + 3 \n",
        "\n",
        "x, i = posicao_falsa(f, 0, 1, 1e-3, 100)\n",
        "print(f\"A raiz aproximada da função é {x} com {i} iterações.\")"
      ],
      "metadata": {
        "colab": {
          "base_uri": "https://localhost:8080/"
        },
        "id": "AjERQtcbtamG",
        "outputId": "70f36681-7c02-44d8-ab8e-f4873a1bafa7"
      },
      "execution_count": 115,
      "outputs": [
        {
          "output_type": "stream",
          "name": "stdout",
          "text": [
            "A raiz aproximada da função é 0.33763504551140067 com 2 iterações.\n"
          ]
        }
      ]
    },
    {
      "cell_type": "markdown",
      "source": [
        "."
      ],
      "metadata": {
        "id": "Pue6Wp2RJdTn"
      }
    },
    {
      "cell_type": "markdown",
      "source": [
        "NEWTON\n"
      ],
      "metadata": {
        "id": "6eExytowcYSw"
      }
    },
    {
      "cell_type": "code",
      "source": [
        "\n",
        "def newton(f, df, x0, tol = 1e-6, max_iter = 100):\n",
        "    i = 0\n",
        "    while i < max_iter:\n",
        "        fx = f(x0)\n",
        "        dfx = df(x0)\n",
        "        x1 = x0 - fx / dfx\n",
        "        if abs(x1 - x0) < tol:\n",
        "            return x1, i\n",
        "        x0 = x1\n",
        "        i += 1\n",
        "    raise Exception(f\"O método não convergiu em {max_iter} iterações\")\n"
      ],
      "metadata": {
        "id": "5ABH1ncCE_oc"
      },
      "execution_count": 116,
      "outputs": []
    },
    {
      "cell_type": "code",
      "source": [
        "#função para calcular derivada e retornar a derivada de uma função.\n",
        "import sympy as sym \n",
        "\n",
        "def derivada (f, x):\n",
        "  function_symbol = sym.Symbol('x')\n",
        "  df = sym.diff(f, function_symbol)\n",
        "  df_value = df.subs(function_symbol, x)\n",
        "\n",
        "  print(f'Função derivada: {df}')\n",
        "\n",
        "  return df_value\n",
        "\n",
        "def derivada_aprox(f,x, h=1e-6):\n",
        "    return (f(x+h) - f(x-h)) / (2*h)"
      ],
      "metadata": {
        "id": "-7roLQPBBRLf"
      },
      "execution_count": 117,
      "outputs": []
    },
    {
      "cell_type": "code",
      "source": [
        "\n",
        "def newton_auto(f, x0, tol=1e-6, max_iter=100): #já com a derivada integrada, evitando-a como parâmetro\n",
        "    i = 0\n",
        "    x = sym.Symbol('x')\n",
        "    df = sym.diff(f(0,1), x)\n",
        "    df_lambda = sym.lambdify(x, df)\n",
        "\n",
        "    while i < max_iter:\n",
        "        fx = f(x0)\n",
        "        dfx = df_lambda(x0)\n",
        "        x1 = x0 - fx / dfx\n",
        "        if abs(x1 - x0) < tol:\n",
        "            return x1, i\n",
        "        x0 = x1\n",
        "        i += 1\n",
        "    raise Exception(f\"O método não convergiu em {max_iter} iterações, resultado {x1}\")\n",
        "\n",
        "def newton_auto_aprox(f, x0, tol=1e-6, max_iter=100): #já com a derivada integrada por aproximação, evitando-a como parâmetro\n",
        "    i = 0\n",
        "    while i < max_iter:\n",
        "        x1 = x0 - f(x0) / derivada_aprox(f,x0, h=1e-6)\n",
        "        if abs(x1 - x0) < tol:\n",
        "            return x1, i\n",
        "        x0 = x1\n",
        "        i += 1\n",
        "    raise Exception(f\"O método não convergiu em {max_iter} iterações, resultado {x1}\")"
      ],
      "metadata": {
        "id": "IXbwEcSRHkv0"
      },
      "execution_count": 118,
      "outputs": []
    },
    {
      "cell_type": "code",
      "source": [
        "def f(x = 0, t = 0): #função modificada para funcionar com o método automatico\n",
        "    if(t == 0):\n",
        "      return x**3 - 9*x + 3 \n",
        "    else:\n",
        "      return 'x**3 - 9*x + 3'\n",
        "\n",
        "def df(x):\n",
        "    # 2*x + 1\n",
        "   return  3*x**2 - 9\n",
        "\n",
        "x, i = newton(f, df, 0)\n",
        "print(f\"A raiz aproximada da função é {x} com {i} iterações.\")\n",
        "print()\n",
        "\n",
        "x, i = newton_auto(f, 0)\n",
        "print(f\"A raiz aproximada da função é {x} com {i} iterações.\")"
      ],
      "metadata": {
        "colab": {
          "base_uri": "https://localhost:8080/"
        },
        "id": "xBT8csvhwsuv",
        "outputId": "937abeb2-725b-47fe-89da-a6643bcab751"
      },
      "execution_count": 119,
      "outputs": [
        {
          "output_type": "stream",
          "name": "stdout",
          "text": [
            "A raiz aproximada da função é 0.33760895596583773 com 3 iterações.\n",
            "\n",
            "A raiz aproximada da função é 0.33760895596583773 com 3 iterações.\n"
          ]
        }
      ]
    },
    {
      "cell_type": "markdown",
      "source": [
        ".\n",
        ".\n"
      ],
      "metadata": {
        "id": "e8-2Gz8xJbSI"
      }
    },
    {
      "cell_type": "markdown",
      "source": [
        "SECANTE"
      ],
      "metadata": {
        "id": "mIJbVliud-tS"
      }
    },
    {
      "cell_type": "code",
      "source": [
        "def secante(f, x0, x1, tol=1e-6, max_iter=100):\n",
        "    \"\"\"\n",
        "    Encontra uma raiz da função f utilizando o método da secante\n",
        "    a partir dos pontos iniciais x0 e x1\n",
        "    \"\"\"\n",
        "    iter = 0\n",
        "    while abs(x1 - x0) > tol and iter < max_iter:\n",
        "        # Calcula o próximo ponto x2\n",
        "        x2 = x1 - f(x1) * (x1 - x0) / (f(x1) - f(x0))\n",
        "        # Atualiza os pontos x0 e x1\n",
        "        x0 = x1\n",
        "        x1 = x2\n",
        "        iter += 1\n",
        "    return x1, iter"
      ],
      "metadata": {
        "id": "jqF8DILCFf5n"
      },
      "execution_count": 120,
      "outputs": []
    },
    {
      "cell_type": "code",
      "source": [
        "def f(x):\n",
        "    return x**3 - 9*x + 3 \n",
        "\n",
        "x, i = secante(f, 0, 1)\n",
        "print(f\"A raiz aproximada da função é {x} com {i} iterações.\")"
      ],
      "metadata": {
        "id": "mWg36BvnxSVT",
        "outputId": "5a23ee71-fc79-4b2e-b510-002092122635",
        "colab": {
          "base_uri": "https://localhost:8080/"
        }
      },
      "execution_count": 121,
      "outputs": [
        {
          "output_type": "stream",
          "name": "stdout",
          "text": [
            "A raiz aproximada da função é 0.33760895596578694 com 5 iterações.\n"
          ]
        }
      ]
    },
    {
      "cell_type": "markdown",
      "source": [
        "."
      ],
      "metadata": {
        "id": "qKMdJeHrJopo"
      }
    },
    {
      "cell_type": "markdown",
      "source": [
        "CONSTANTES\n",
        "- math.e: a constante matemática e, aproximadamente igual a 2.718281828459045\n",
        "- math.pi: a constante matemática pi, aproximadamente igual a 3.141592653589793\n",
        "\n",
        "ANGULARES\n",
        "\n",
        "- math.radians(angulo_graus) -> clacular grau radiano\n",
        "- math.sin(x): retorna o seno do ângulo x.\n",
        "- math.cos(x): retorna o cosseno do ângulo x.\n",
        "- math.tan(x): retorna a tangente do ângulo x.\n",
        "- math.asin(x): retorna o arco seno do valor x. O resultado é dado em radianos e está no intervalo [-π/2, π/2].\n",
        "- math.acos(x): retorna o arco cosseno do valor x. O resultado é dado em radianos e está no intervalo [0, π].\n",
        "- math.atan(x): retorna o arco tangente do valor x. O resultado é dado em radianos e está no intervalo [-π/2, π/2].\n",
        "- math.atan2(y, x): retorna o arco tangente de y/x. O resultado é dado em radianos e está no intervalo [-π, π]."
      ],
      "metadata": {
        "id": "k4R1hsOUroEZ"
      }
    },
    {
      "cell_type": "markdown",
      "source": [
        "#ATIVIDADES "
      ],
      "metadata": {
        "id": "nGNu-bdNwccI"
      }
    },
    {
      "cell_type": "code",
      "source": [
        "def f(i):\n",
        "  a = ( i * ( 1 + i )**6)\n",
        "  b = ( 1 + i )**6 - 1 \n",
        "  c = a / b\n",
        "  d = 20000 * c\n",
        "  final = d - 4000\n",
        "  return final\n",
        "\n",
        "def df(x):\n",
        "  a =20000 * ( -(x + 1)**6 * (5*x**4 + 24*x**3 + 45*x**2 + 40*x + 15 + 6) * (x + 1)**5 * (x+2) * (x**4 + 4*x**3 + 7*x**2 + 6*x +3))\n",
        "  b = (x+2)**2 * (x**4 + 4*x**3 + 7*x**2 + 6*x +3)**2\n",
        "  c = a / b\n",
        "  return  c\n",
        "\n",
        "def parte1 (i0, i1):\n",
        "  return i0 * f(i1)- i1 * f(i0)\n",
        "\n",
        "def parte2 (i0, i1):\n",
        "  return f(i1) - f(i0)\n",
        "\n",
        "def parte3 (a, b):\n",
        "  return a / b\n",
        "\n",
        "# print(f(0.0570), f(0.054464))\n",
        "\n",
        "# print(parte1(0.15, 0.054464))\n",
        "# print(parte2(0.15, 0.054464))\n",
        "\n",
        "# secante(f, 0.05,0.15, 0.05, 100)\n",
        "x, i = bissecao(f, 0.05, 0.15, 0.0000000001, 1000)\n",
        "print(f\"Raiz aproximada: {x}, {i} iterações.\")\n",
        "\n",
        "x, i = posicao_falsa(f, 0.05, 0.15, 0.0000000001, 1000)\n",
        "print(f\"Raiz aproximada: {x}, {i} iterações.\")\n",
        "\n",
        "print(df(0.01))\n",
        "x, i = newton(f, df, 0.01, 0.000001, 1000000)\n",
        "print(f\"A raiz aproximada da função é {x} com {i} iterações.\")"
      ],
      "metadata": {
        "colab": {
          "base_uri": "https://localhost:8080/"
        },
        "id": "yibpRXQcSZpe",
        "outputId": "c1ea050a-aac4-4ee0-b199-ed5eb7c46408"
      },
      "execution_count": 122,
      "outputs": [
        {
          "output_type": "stream",
          "name": "stdout",
          "text": [
            "Raiz aproximada: 0.05471792500466108, 29 iterações.\n",
            "Raiz aproximada: 0.054717925023534224, 9 iterações.\n",
            "-77634.23764321324\n",
            "A raiz aproximada da função é 4.122508491634543 com 11 iterações.\n"
          ]
        }
      ]
    },
    {
      "cell_type": "code",
      "source": [
        "import numpy as np\n",
        "\n",
        "def f(x):\n",
        "    return x**3 - 9*x + 3 \n",
        "def df(x):\n",
        "    # 2*x + 1\n",
        "   return  3*x**2 - 9\n",
        "\n",
        "# Defina a função\n",
        "x = sym.Symbol('x')\n",
        "f = x**3 - 9*x + 3 \n",
        "\n",
        "# Calcule a derivada em um ponto específico\n",
        "df = sym.diff(f, x)\n",
        "x0 = 3\n",
        "df_value = df.subs(x, x0)\n",
        "\n",
        "# Imprima o valor da derivada em um ponto específico\n",
        "print(df_value)\n",
        "\n",
        "def derivada (f, x):\n",
        "  function_symbol = sym.Symbol('x')\n",
        "  df = sym.diff(f, function_symbol)\n",
        "  # print(df)\n",
        "  df_value = df.subs(function_symbol, x)\n",
        "  return df, df_value\n",
        "\n",
        "f = 20000 * x - 24000\n",
        "\n",
        "print(derivada(f, 0.1))\n",
        "\n",
        "def df(x):\n",
        "  return 20000\n",
        "\n",
        "def f(i):\n",
        "  a = ( i * ( 1 + i )**6)\n",
        "  b = ( 1 + i )**6 - 1 \n",
        "  c = a / b\n",
        "  d = 20000 * c\n",
        "  final = d - 4000\n",
        "  return final\n",
        "x, i = newton(f, df, 0.01, 0.000001, 1000000)\n",
        "print(f\"A raiz aproximada da função é {x} com {i} iterações.\")\n",
        "\n",
        "\n",
        "# f = 'cos(x)'\n",
        "# derivada(f, 1)\n",
        "\n",
        "f = '80 + 90 * cos( (3.14159265358979323846 / 3) * x) '\n",
        "função, resultado = derivada(f, 1)\n",
        "\n",
        "print(função)\n",
        "\n"
      ],
      "metadata": {
        "colab": {
          "base_uri": "https://localhost:8080/"
        },
        "id": "sp4hnkSk70EH",
        "outputId": "d78f953b-076d-4e88-ce74-4fc6a29b4390"
      },
      "execution_count": 123,
      "outputs": [
        {
          "output_type": "stream",
          "name": "stdout",
          "text": [
            "18\n",
            "(20000, 20000)\n",
            "A raiz aproximada da função é 0.05471764549595901 com 11 iterações.\n",
            "-94.2477796076937971538*sin(1.04719755119659774615*x)\n"
          ]
        }
      ]
    },
    {
      "cell_type": "markdown",
      "source": [
        "calcular radiano caso haja um coseno"
      ],
      "metadata": {
        "id": "zYiyLp-LmxsS"
      }
    },
    {
      "cell_type": "code",
      "source": [],
      "metadata": {
        "id": "EuWJkVCcPsrS"
      },
      "execution_count": 123,
      "outputs": []
    },
    {
      "cell_type": "code",
      "source": [
        "# def cos1(x):\n",
        "#   return m.cos(m.pi / 3 * x)\n",
        "# def sin1(x):\n",
        "#   return m.sin(m.pi / 3 * x)\n",
        "\n",
        "# print(cos1(3.454437353))\n",
        "# print(sin1(3.454437353))\n",
        "# print(3.454437353 - (80 + (90* -0.88888731) ) / (-94.247 * -0.45812589))\n",
        "# print((3.454437 - 3.454434) < 0.001)\n",
        "\n",
        "def f(x):\n",
        "  return 80 + 90 * m.cos ( (3.141592653589793/3) * x)\n",
        "\n",
        "f2 = '80 + 90 * cos( (3.141592653589793/3) * x)'\n",
        "print(derivada(f2,4))\n",
        "\n",
        "derivada_aprox(f,4)\n",
        "\n",
        "def f(x , t = 0): #função modificada para funcionar com o método automatico\n",
        "    if(t == 0):\n",
        "      return 80 + 90 * m.cos ( (3.141592653589793/3) * x) \n",
        "    else:\n",
        "      return '80 + 90 * cos( (3.141592653589793/3) * x)'\n",
        "\n",
        "\n",
        "print(newton_auto(f, 4,0.001,max_iter=100))\n",
        "newton_auto_aprox(f,4,tol=0.001)\n",
        "\n",
        "x, i = bissecao(f, 3, 4, 0.0000000001, 10000000)\n",
        "print(f\"Raiz aproximada: {x}, {i} iterações.\")\n",
        "\n",
        "x, i = posicao_falsa(f, 3, 4, 0.0000000001, 1000)\n",
        "print(f\"Raiz aproximada: {x}, {i} iterações.\")\n",
        "\n",
        "x, i = secante(f, 3, 4, 0.0000000001, 1000)\n",
        "print(f\"Raiz aproximada: {x}, {i} iterações.\")\n",
        "\n",
        "x, i = newton_auto(f, 4, 0.000001, 1000)\n",
        "print(f\"Raiz aproximada: {x}, {i} iterações.\")\n",
        "\n",
        "\n",
        "# KKKKKKKKKKKKKKKKKKKKKKKK\n"
      ],
      "metadata": {
        "colab": {
          "base_uri": "https://localhost:8080/"
        },
        "id": "BK-foi6HAqHQ",
        "outputId": "afaa4684-0e6c-4b15-eb6d-92267da259ed"
      },
      "execution_count": 128,
      "outputs": [
        {
          "output_type": "stream",
          "name": "stdout",
          "text": [
            "(-94.24777960769379*sin(1.047197551196598*x), 81.62097139053978)\n",
            "(3.454434087493587, 3)\n",
            "Raiz aproximada: 3.454434074112214, 33 iterações.\n",
            "Raiz aproximada: 3.4544340741766617, 23 iterações.\n",
            "Raiz aproximada: 3.4544340741788804, 8 iterações.\n",
            "Raiz aproximada: 3.454434074178881, 4 iterações.\n"
          ]
        }
      ]
    }
  ]
}