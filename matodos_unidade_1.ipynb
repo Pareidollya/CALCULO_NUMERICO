{
  "nbformat": 4,
  "nbformat_minor": 0,
  "metadata": {
    "colab": {
      "provenance": [],
      "toc_visible": true,
      "authorship_tag": "ABX9TyOeLX/txod4fi/dAD6HFvxW",
      "include_colab_link": true
    },
    "kernelspec": {
      "name": "python3",
      "display_name": "Python 3"
    },
    "language_info": {
      "name": "python"
    }
  },
  "cells": [
    {
      "cell_type": "markdown",
      "metadata": {
        "id": "view-in-github",
        "colab_type": "text"
      },
      "source": [
        "<a href=\"https://colab.research.google.com/github/Pareiollya/CALCULO_NUMERICO/blob/main/matodos_unidade_1.ipynb\" target=\"_parent\"><img src=\"https://colab.research.google.com/assets/colab-badge.svg\" alt=\"Open In Colab\"/></a>"
      ]
    },
    {
      "cell_type": "code",
      "source": [
        "import numpy as np\n",
        "import matplotlib.pyplot as plt\n",
        "import math as m\n",
        "import sympy as sym "
      ],
      "metadata": {
        "id": "eSWHmaxqB00n"
      },
      "execution_count": null,
      "outputs": []
    },
    {
      "cell_type": "markdown",
      "source": [
        "gerar um grafico"
      ],
      "metadata": {
        "id": "7Cg_yUVXCJmA"
      }
    },
    {
      "cell_type": "code",
      "execution_count": null,
      "metadata": {
        "id": "qNlhf87SjRVT"
      },
      "outputs": [],
      "source": [
        "def showPlot(f, intervalo1, intervalo2):\n",
        "  # Definir o intervalo\n",
        "  x = np.linspace(intervalo1, intervalo2, 1000)\n",
        "\n",
        "  # Calcular os valores da função para cada ponto no intervalo\n",
        "  y = f(x)\n",
        "\n",
        "  # Criar o gráfico\n",
        "  plt.plot(x, y)\n",
        "  plt.axhline(y=0, color='black', linestyle='--')\n",
        "  plt.xlabel('x')\n",
        "  plt.ylabel('f(x)')\n",
        "  plt.title('Gráfico da função f(x)')\n",
        "  plt.show()\n",
        "\n",
        "# Definir a função\n",
        "# def f(x):\n",
        "#     return x**3 - 9*x + 3\n",
        "#     # return x**2 + x - 6\n",
        "\n",
        "# showPlot(f)\n",
        "\n"
      ]
    },
    {
      "cell_type": "markdown",
      "source": [
        "FUNÇÃO e DERIVADA."
      ],
      "metadata": {
        "id": "-225oWWXbm6u"
      }
    },
    {
      "cell_type": "code",
      "source": [
        "def f(x):\n",
        "    #  x**3 - 9*x + 3 \n",
        "    return x**2 + x - 6  \n",
        "\n",
        "def df(x):\n",
        "    # 2*x + 1\n",
        "    return  3*x**2 - 9\n",
        "\n",
        "\n",
        "showPlot(f, -5, 5)"
      ],
      "metadata": {
        "colab": {
          "base_uri": "https://localhost:8080/",
          "height": 472
        },
        "id": "reCuj96qbdzn",
        "outputId": "a2323be6-a78a-4d34-e241-b8d378ff2006"
      },
      "execution_count": null,
      "outputs": [
        {
          "output_type": "display_data",
          "data": {
            "text/plain": [
              "<Figure size 640x480 with 1 Axes>"
            ],
            "image/png": "[encoded data removed]"
          },
          "metadata": {}
        }
      ]
    },
    {
      "cell_type": "markdown",
      "source": [
        "VARIÁVEIS GLOBAIS\n"
      ],
      "metadata": {
        "id": "qT3CAvledK6E"
      }
    },
    {
      "cell_type": "code",
      "source": [
        "#pontos de intervalo\n",
        "x0 = 1.5\n",
        "x1 = 1.7\n",
        "\n",
        "#configurações de iteração\n",
        "tolerancia = 1e-6\n",
        "max_iter = 100\n"
      ],
      "metadata": {
        "id": "V3PRgjsLdOiE"
      },
      "execution_count": null,
      "outputs": []
    },
    {
      "cell_type": "markdown",
      "source": [
        "."
      ],
      "metadata": {
        "id": "MWH-0r6QJf-Z"
      }
    },
    {
      "cell_type": "markdown",
      "source": [
        "#RAIZ DE EQUAÇÃO"
      ],
      "metadata": {
        "id": "Xwi4gWK_rq-L"
      }
    },
    {
      "cell_type": "code",
      "source": [
        "def showResult(result):\n",
        "  for i in result:\n",
        "    print(i)"
      ],
      "metadata": {
        "id": "a-gSKJnvV5lb"
      },
      "execution_count": null,
      "outputs": []
    },
    {
      "cell_type": "markdown",
      "source": [
        "CRITÉRIOS DE PARADA \n",
        "\n",
        "| f(c) | ou | x1 - x0 |"
      ],
      "metadata": {
        "id": "Zmri2zgDeMRq"
      }
    },
    {
      "cell_type": "markdown",
      "source": [],
      "metadata": {
        "id": "NEIzmH6ZrqVY"
      }
    },
    {
      "cell_type": "markdown",
      "source": [
        "# -BISSEÇÃO"
      ],
      "metadata": {
        "id": "wjDZyScxryu4"
      }
    },
    {
      "cell_type": "code",
      "source": [
        "def bissecao(f, a, b, tol = 1e-6, max_iter = 100, getResults = False):\n",
        "    results = []\n",
        "    iter = 0\n",
        "    c = 0\n",
        "    # if f(a) * f(b) >= 0:\n",
        "    #     print(f\"O método não convergiu em {max_iter} iterações, resultado {x1}\")\n",
        "    #     return None\n",
        "    # while abs(f((a + b)/2) - f(c))> tol and iter < max_iter:\n",
        "    while iter < max_iter:\n",
        "        iter += 1\n",
        "        c = (a + b)/2\n",
        "\n",
        "        if(getResults): results.append((iter, c, f(c)))\n",
        "        if f(c) == 0:\n",
        "            return c, iter, \n",
        "        \n",
        "        elif f(a)*f(c) < 0:\n",
        "            b = c\n",
        "        else:\n",
        "            a = c\n",
        "\n",
        "        if abs(f(c)) < tol:\n",
        "          if(getResults): return c, iter, results\n",
        "          else: return c, iter\n",
        "    # print(f\"A raiz aproximada da função é {c} com {iter} iterações.\")\n",
        "\n",
        "    \n",
        "    "
      ],
      "metadata": {
        "id": "72H6ottic5pe"
      },
      "execution_count": null,
      "outputs": []
    },
    {
      "cell_type": "code",
      "source": [
        "def f(x):\n",
        "    return x**3 - 9*x + 3 \n",
        "\n",
        "x, i = bissecao(f, 0, 1, 1e-3, 100)\n",
        "print(f\"A raiz aproximada da função é {x} com {i} iterações.\")"
      ],
      "metadata": {
        "colab": {
          "base_uri": "https://localhost:8080/"
        },
        "id": "7waWcEPPpDRz",
        "outputId": "e121721e-0256-4706-a5a6-c09f4acab26a"
      },
      "execution_count": null,
      "outputs": [
        {
          "output_type": "stream",
          "name": "stdout",
          "text": [
            "A raiz aproximada da função é 0.337646484375 com 12 iterações.\n"
          ]
        }
      ]
    },
    {
      "cell_type": "markdown",
      "source": [
        "# -POSIÇÃO FALSA\n"
      ],
      "metadata": {
        "id": "cP8K7Rsfr3PW"
      }
    },
    {
      "cell_type": "markdown",
      "source": [
        "."
      ],
      "metadata": {
        "id": "4dfe4x3GJe9c"
      }
    },
    {
      "cell_type": "code",
      "source": [
        "def posicao_falsa(f, a, b, tol = 1e-6, max_iter = 100, getResults = False):\n",
        "    i = 0\n",
        "    while i < max_iter:\n",
        "        results = []\n",
        "        i += 1\n",
        "        fa = f(a)\n",
        "        fb = f(b)\n",
        "        c = (a*fb - b*fa) / (fb - fa)\n",
        "        if(getResults): results.append((i, c, f(c)))\n",
        "        if f(c) < tol:\n",
        "            if(getResults): return c, i, results\n",
        "            else: return c, i\n",
        "            \n",
        "        elif fa * f(c) < 0:\n",
        "            b = c\n",
        "        else:\n",
        "            a = c\n",
        "        \n",
        "    raise Exception(f\"O método não convergiu em {max_iter} iterações, resultado {x1}\")"
      ],
      "metadata": {
        "id": "2Qpz7_-utZN5"
      },
      "execution_count": null,
      "outputs": []
    },
    {
      "cell_type": "code",
      "source": [
        "def f(x):\n",
        "    return x**3 - 9*x + 3 \n",
        "\n",
        "x, i = posicao_falsa(f, 0, 1, 1e-3, 100)\n",
        "print(f\"A raiz aproximada da função é {x} com {i} iterações.\")"
      ],
      "metadata": {
        "colab": {
          "base_uri": "https://localhost:8080/"
        },
        "id": "AjERQtcbtamG",
        "outputId": "c3a41d75-8141-487d-e362-dbae5e3426ea"
      },
      "execution_count": null,
      "outputs": [
        {
          "output_type": "stream",
          "name": "stdout",
          "text": [
            "A raiz aproximada da função é 0.375 com 1 iterações.\n"
          ]
        }
      ]
    },
    {
      "cell_type": "markdown",
      "source": [
        "."
      ],
      "metadata": {
        "id": "Pue6Wp2RJdTn"
      }
    },
    {
      "cell_type": "markdown",
      "source": [
        "#-NEWTON\n"
      ],
      "metadata": {
        "id": "6eExytowcYSw"
      }
    },
    {
      "cell_type": "code",
      "source": [
        "\n",
        "def newton(f, df, x0, tol = 1e-6, max_iter = 100, getResults = False):\n",
        "    i = 0\n",
        "    results = []\n",
        "    while i < max_iter:\n",
        "        fx = f(x0)\n",
        "        dfx = df(x0)\n",
        "        x1 = x0 - fx / dfx\n",
        "        i += 1\n",
        "        if(getResults): results.append((i, x1, f(x1)))\n",
        "        if abs(f(x1)) < tol:\n",
        "          if(getResults): return x1, i, results \n",
        "          else: return x1, i\n",
        "        x0 = x1\n",
        "        \n",
        "        \n",
        "    raise Exception(f\"O método não convergiu em {max_iter} iterações\")\n"
      ],
      "metadata": {
        "id": "5ABH1ncCE_oc"
      },
      "execution_count": null,
      "outputs": []
    },
    {
      "cell_type": "code",
      "source": [
        "#função para calcular derivada e retornar a derivada de uma função.\n",
        "import sympy as sym \n",
        "\n",
        "def derivada (f, x):\n",
        "  function_symbol = sym.Symbol('x')\n",
        "  df = sym.diff(f, function_symbol)\n",
        "  df_value = df.subs(function_symbol, x)\n",
        "\n",
        "  print(f'Função derivada: {df}')\n",
        "\n",
        "  return df_value\n",
        "\n",
        "def derivada_aprox(f,x, h=1.9e-9):\n",
        "    return (f(x+h) - f(x-h)) / (2*h)\n",
        "\n",
        "#derivadas parciais\n",
        "\n",
        "def f(x, y):\n",
        "    return 9*x**2+25*y**2-255\n",
        "\n",
        "def partial_derivada_aprox_x(f, x, y, h=1e-6):\n",
        "    return (f(x+h, 0) - f(x-h, 0)) / (2*h)\n",
        "\n",
        "def partial_derivada_aprox_y(f, x, y, h=1e-6):\n",
        "    return (f(0, y+h) - f(0, y-h)) / (2*h)\n",
        "\n",
        "partial_derivada_aprox_x(f,2.5,2)\n",
        "partial_derivada_aprox_y(f,2.5,2)"
      ],
      "metadata": {
        "id": "-7roLQPBBRLf",
        "colab": {
          "base_uri": "https://localhost:8080/"
        },
        "outputId": "462f9642-b153-4a91-83cb-6ac1c9582939"
      },
      "execution_count": null,
      "outputs": [
        {
          "output_type": "execute_result",
          "data": {
            "text/plain": [
              "100.00000000331966"
            ]
          },
          "metadata": {},
          "execution_count": 150
        }
      ]
    },
    {
      "cell_type": "code",
      "source": [
        "\n",
        "def newton_auto(f, x0, tol=1e-6, max_iter=100, getResults = False): #já com a derivada integrada, evitando-a como parâmetro\n",
        "    results = []\n",
        "    i = 0\n",
        "    x = sym.Symbol('x')\n",
        "    df = sym.diff(f(0,1), x)\n",
        "    df_lambda = sym.lambdify(x, df)\n",
        "\n",
        "    while i < max_iter:\n",
        "        fx = f(x0)\n",
        "        dfx = df_lambda(x0)\n",
        "        x1 = x0 - fx / dfx\n",
        "        # if abs(x1 - x0) < tol:\n",
        "        i += 1\n",
        "        if(getResults): results.append((i, x1, f(x1)))\n",
        "        if abs(f(x1)) < tol:\n",
        "          if(getResults): return x1, i, results \n",
        "          else: return x1, i\n",
        "        x0 = x1\n",
        "        \n",
        "    raise Exception(f\"O método não convergiu em {max_iter} iterações, resultado {x1}\")\n",
        "\n",
        "def newton_auto_aprox(f, x0, tol=1e-6, max_iter=100, getResults = False): #já com a derivada integrada por aproximação, evitando-a como parâmetro\n",
        "    results = []\n",
        "    i = 0\n",
        "    while i < max_iter:\n",
        "        x1 = x0 - f(x0) / derivada_aprox(f,x0, h=1e-6)\n",
        "        i += 1\n",
        "        if abs(f(x1)) < tol:\n",
        "          if(getResults): return x1, i, results \n",
        "          else: return x1, i\n",
        "        x0 = x1\n",
        "       \n",
        "    raise Exception(f\"O método não convergiu em {max_iter} iterações, resultado {x1}\")"
      ],
      "metadata": {
        "id": "IXbwEcSRHkv0"
      },
      "execution_count": null,
      "outputs": []
    },
    {
      "cell_type": "code",
      "source": [
        "def f(x = 0, t = 0): #função modificada para funcionar com o método automatico\n",
        "    if(t == 0):\n",
        "      return x**3 - 9*x + 3 \n",
        "    else:\n",
        "      return 'x**3 - 9*x + 3'\n",
        "\n",
        "def df(x):\n",
        "    # 2*x + 1\n",
        "   return  3*x**2 - 9\n",
        "\n",
        "x, i = newton(f, df, 0)\n",
        "print(f\"A raiz aproximada da função é {x} com {i} iterações.\")\n",
        "print()\n",
        "\n",
        "x, i = newton_auto(f, 0)\n",
        "print(f\"A raiz aproximada da função é {x} com {i} iterações.\")\n",
        "\n",
        "def f(x = 0, t = 0): #função modificada para funcionar com o método automatico\n",
        "    if(t == 0):\n",
        "      return 3.14 * x**2 - 1/3 * 3.14*x ** 3 - 0.5\n",
        "    else:\n",
        "      return '3.14 * x**2 -1/3 * 3.14*x ** 3 - 0.5'\n",
        "\n",
        "def df(x):\n",
        "  return 2*3.14*x - 3.14  * x**2\n",
        "# newton_auto(f,0.375,0.01, 1)\n",
        "# newton(f,df,0.375,0.01,100)\n",
        "newton_auto(f,0.375,0.01,100)\n"
      ],
      "metadata": {
        "colab": {
          "base_uri": "https://localhost:8080/"
        },
        "id": "xBT8csvhwsuv",
        "outputId": "63e8adf1-7851-41f9-8462-822a7da3a8ef"
      },
      "execution_count": null,
      "outputs": [
        {
          "output_type": "stream",
          "name": "stdout",
          "text": [
            "A raiz aproximada da função é 0.3376089559653128 com 3 iterações.\n",
            "\n",
            "A raiz aproximada da função é 0.3376089559653128 com 3 iterações.\n"
          ]
        },
        {
          "output_type": "execute_result",
          "data": {
            "text/plain": [
              "(0.4343867385268659, 1)"
            ]
          },
          "metadata": {},
          "execution_count": 152
        }
      ]
    },
    {
      "cell_type": "markdown",
      "source": [
        ".\n",
        ".\n"
      ],
      "metadata": {
        "id": "e8-2Gz8xJbSI"
      }
    },
    {
      "cell_type": "markdown",
      "source": [
        "#-SECANTE"
      ],
      "metadata": {
        "id": "mIJbVliud-tS"
      }
    },
    {
      "cell_type": "code",
      "source": [
        "def secante(f, x0, x1, tol=1e-6, max_iter=100, getResults = False):\n",
        "    \"\"\"\n",
        "    Encontra uma raiz da função f utilizando o método da secante\n",
        "    a partir dos pontos iniciais x0 e x1\n",
        "    \"\"\"\n",
        "    iter = 0\n",
        "    results = []\n",
        "    # while abs(x1 - x0) > tol and iter < max_iter:\n",
        "    while iter < max_iter:\n",
        "        iter += 1\n",
        "        # Calcula o próximo ponto x2\n",
        "        x2 = x1 - f(x1) * (x1 - x0) / (f(x1) - f(x0))\n",
        "        # Atualiza os pontos x0 e x1\n",
        "        if(getResults): results.append((iter, x1, f(x1)))\n",
        "        if abs(f(x1)) < tol:\n",
        "          if(getResults): return x1, iter, results \n",
        "          else: return x1, iter\n",
        "        x0 = x1\n",
        "        x1 = x2\n",
        "        \n",
        "        \n",
        "    # if(getResults): return x1, iter, results \n",
        "    # else: return x1, iter\n",
        "   "
      ],
      "metadata": {
        "id": "jqF8DILCFf5n"
      },
      "execution_count": null,
      "outputs": []
    },
    {
      "cell_type": "code",
      "source": [
        "def f(x):\n",
        "  return 3.14 * x**2 - 1/3 * 3.14*x ** 3 - 0.5\n",
        "\n",
        "secante(f,0.25,0.5,0.001,100, True)"
      ],
      "metadata": {
        "colab": {
          "base_uri": "https://localhost:8080/"
        },
        "id": "V4chU6bBln3l",
        "outputId": "f4922496-c920-44b3-822c-38fbeb652571"
      },
      "execution_count": null,
      "outputs": [
        {
          "output_type": "execute_result",
          "data": {
            "text/plain": [
              "(0.43124716857861556,\n",
              " 4,\n",
              " [(1, 0.5, 0.15416666666666667),\n",
              "  (2, 0.41873490006589065, -0.026282616883601784),\n",
              "  (3, 0.4305712423641454, -0.0014198152571961442),\n",
              "  (4, 0.43124716857861556, 1.5220623885925377e-05)])"
            ]
          },
          "metadata": {},
          "execution_count": 154
        }
      ]
    },
    {
      "cell_type": "code",
      "source": [
        "def f(x):\n",
        "    return x**3 - 9*x + 3 \n",
        "\n",
        "x, i = secante(f, 0, 1)\n",
        "print(f\"A raiz aproximada da função é {x} com {i} iterações.\")"
      ],
      "metadata": {
        "id": "mWg36BvnxSVT",
        "outputId": "b3777640-7216-4705-8dbd-9adef26c6cc3",
        "colab": {
          "base_uri": "https://localhost:8080/"
        }
      },
      "execution_count": null,
      "outputs": [
        {
          "output_type": "stream",
          "name": "stdout",
          "text": [
            "A raiz aproximada da função é 0.33760897287513775 com 5 iterações.\n"
          ]
        }
      ]
    },
    {
      "cell_type": "markdown",
      "source": [
        "."
      ],
      "metadata": {
        "id": "qKMdJeHrJopo"
      }
    },
    {
      "cell_type": "markdown",
      "source": [
        "CONSTANTES\n",
        "- math.e: a constante matemática e, aproximadamente igual a 2.718281828459045\n",
        "- math.pi: a constante matemática pi, aproximadamente igual a 3.141592653589793\n",
        "\n",
        "ANGULARES\n",
        "\n",
        "- math.radians(angulo_graus) -> clacular grau radiano\n",
        "- math.sin(x): retorna o seno do ângulo x.\n",
        "- math.cos(x): retorna o cosseno do ângulo x.\n",
        "- math.tan(x): retorna a tangente do ângulo x.\n",
        "- math.asin(x): retorna o arco seno do valor x. O resultado é dado em radianos e está no intervalo [-π/2, π/2].\n",
        "- math.acos(x): retorna o arco cosseno do valor x. O resultado é dado em radianos e está no intervalo [0, π].\n",
        "- math.atan(x): retorna o arco tangente do valor x. O resultado é dado em radianos e está no intervalo [-π/2, π/2].\n",
        "- math.atan2(y, x): retorna o arco tangente de y/x. O resultado é dado em radianos e está no intervalo [-π, π]."
      ],
      "metadata": {
        "id": "k4R1hsOUroEZ"
      }
    },
    {
      "cell_type": "markdown",
      "source": [
        "#ATIVIDADES "
      ],
      "metadata": {
        "id": "nGNu-bdNwccI"
      }
    },
    {
      "cell_type": "code",
      "source": [
        "import numpy as np\n",
        "\n",
        "def f(x):\n",
        "    return x**3 - 9*x + 3 \n",
        "def df(x):\n",
        "    # 2*x + 1\n",
        "   return  3*x**2 - 9\n",
        "\n",
        "# Defina a função\n",
        "x = sym.Symbol('x')\n",
        "f = x**3 - 9*x + 3 \n",
        "\n",
        "# Calcule a derivada em um ponto específico\n",
        "df = sym.diff(f, x)\n",
        "x0 = 3\n",
        "df_value = df.subs(x, x0)\n",
        "\n",
        "# Imprima o valor da derivada em um ponto específico\n",
        "print(df_value)\n",
        "\n",
        "def derivada (f, x):\n",
        "  function_symbol = sym.Symbol('x')\n",
        "  df = sym.diff(f, function_symbol)\n",
        "  # print(df)\n",
        "  df_value = df.subs(function_symbol, x)\n",
        "  return df, df_value\n",
        "\n",
        "f = 20000 * x - 24000\n",
        "\n",
        "print(derivada(f, 0.1))\n",
        "\n",
        "def df(x):\n",
        "  return 20000\n",
        "\n",
        "def f(i):\n",
        "  a = ( i * ( 1 + i )**6)\n",
        "  b = ( 1 + i )**6 - 1 \n",
        "  c = a / b\n",
        "  d = 20000 * c\n",
        "  final = d - 4000\n",
        "  return final\n",
        "x, i = newton(f, df, 0.01, 0.000001, 1000000)\n",
        "print(f\"A raiz aproximada da função é {x} com {i} iterações.\")\n",
        "\n",
        "\n",
        "# f = 'cos(x)'\n",
        "# derivada(f, 1)\n",
        "\n",
        "f = '80 + 90 * cos( (3.14159265358979323846 / 3) * x) '\n",
        "função, resultado = derivada(f, 1)\n",
        "\n",
        "print(função)\n",
        "\n"
      ],
      "metadata": {
        "id": "sp4hnkSk70EH",
        "colab": {
          "base_uri": "https://localhost:8080/"
        },
        "outputId": "5ad892d8-42c6-44da-e014-69eb600d039c"
      },
      "execution_count": null,
      "outputs": [
        {
          "output_type": "stream",
          "name": "stdout",
          "text": [
            "18\n",
            "(20000, 20000)\n",
            "A raiz aproximada da função é 0.054717924990814536 com 21 iterações.\n",
            "-94.2477796076937971538*sin(1.04719755119659774615*x)\n"
          ]
        }
      ]
    },
    {
      "cell_type": "markdown",
      "source": [
        "calcular radiano caso haja um coseno"
      ],
      "metadata": {
        "id": "zYiyLp-LmxsS"
      }
    },
    {
      "cell_type": "code",
      "source": [],
      "metadata": {
        "id": "EuWJkVCcPsrS"
      },
      "execution_count": null,
      "outputs": []
    },
    {
      "cell_type": "code",
      "source": [
        "# def cos1(x):\n",
        "#   return m.cos(m.pi / 3 * x)\n",
        "# def sin1(x):\n",
        "#   return m.sin(m.pi / 3 * x)\n",
        "\n",
        "# print(cos1(3.454437353))\n",
        "# print(sin1(3.454437353))\n",
        "# print(3.454437353 - (80 + (90* -0.88888731) ) / (-94.247 * -0.45812589))\n",
        "# print((3.454437 - 3.454434) < 0.001)\n",
        "\n",
        "def f(x):\n",
        "  return 80 + 90 * m.cos ( (3.141592653589793/3) * x)\n",
        "\n",
        "f2 = '80 + 90 * cos( (3.141592653589793/3) * x)'\n",
        "print(derivada(f2,4))\n",
        "\n",
        "derivada_aprox(f,4,1e-12)\n",
        "\n"
      ],
      "metadata": {
        "id": "BK-foi6HAqHQ",
        "colab": {
          "base_uri": "https://localhost:8080/"
        },
        "outputId": "d53ce677-ff1c-41d7-e4d6-55a9bd0652c1"
      },
      "execution_count": null,
      "outputs": [
        {
          "output_type": "stream",
          "name": "stdout",
          "text": [
            "(-94.24777960769379*sin(1.047197551196598*x), 81.62097139053978)\n"
          ]
        },
        {
          "output_type": "execute_result",
          "data": {
            "text/plain": [
              "81.62004405676271"
            ]
          },
          "metadata": {},
          "execution_count": 157
        }
      ]
    },
    {
      "cell_type": "code",
      "source": [
        "def f(x):\n",
        "  # 10 - 20 * (m.e**0.2*x - m.e**-0.75*x)\n",
        "  return 10 - 20 * (m.e**0.2*x - m.e**-0.75*x)\n",
        "\n",
        "f(0.5625)\n",
        "# (0.375 + 0.75) / 2 2.718281828459045\n",
        "\n",
        "m.e\n",
        "def f(x , t = 0): #função modificada para funcionar com o método automatico\n",
        "    if(t == 0):\n",
        "      return  10 - 20 * (2.718281828459045**0.2*x - 2.718281828459045**-0.75*x) \n",
        "    else:\n",
        "      return '10 - 20 * (2.718281828459045**0.2*x - 2.718281828459045**-0.75*x)'\n",
        "\n",
        "print(newton_auto(f, 4,0.001,max_iter=100))\n",
        "newton_auto_aprox(f,4,tol=0.001)\n",
        "\n",
        "x, i = bissecao(f, 0, 3, 0.0000000001, 1000)\n",
        "print(f\"Raiz aproximada: {x}, {i} iterações.\")\n",
        "\n",
        "x, i, result = posicao_falsa(f, 0, 3, 0.0000000001, 1000, True)\n",
        "print(f\"Raiz aproximada: {x}, {i} iterações.\")\n",
        "\n",
        "x, i, result = secante(f, 0, 3, 0.0000000001, 1000, True)\n",
        "print(f\"Raiz aproximada: {x}, {i} iterações.\")\n",
        "\n",
        "x, i = newton_auto(f, 1.5, 0.0000000001, 1000)\n",
        "\n",
        "print(f\"Raiz aproximada: {x}, {i} iterações.\")\n",
        "showResult(result)"
      ],
      "metadata": {
        "colab": {
          "base_uri": "https://localhost:8080/"
        },
        "id": "9SzckPHGqTAM",
        "outputId": "8ce53da5-df9c-409f-f5f6-2ff7e5619f3b"
      },
      "execution_count": null,
      "outputs": [
        {
          "output_type": "stream",
          "name": "stdout",
          "text": [
            "(0.6675244752958287, 1)\n",
            "Raiz aproximada: 0.6675244752987055, 36 iterações.\n",
            "Raiz aproximada: 0.6675244752958286, 1 iterações.\n",
            "Raiz aproximada: 0.6675244752958283, 2 iterações.\n",
            "Raiz aproximada: 0.6675244752958285, 1 iterações.\n",
            "(1, 3, -34.94217232514931)\n",
            "(2, 0.6675244752958283, 3.552713678800501e-15)\n"
          ]
        }
      ]
    },
    {
      "cell_type": "code",
      "source": [],
      "metadata": {
        "id": "VGyytZkBUtaY"
      },
      "execution_count": null,
      "outputs": []
    },
    {
      "cell_type": "markdown",
      "source": [
        "sistemas lineares adição, substituição, escalonamento e cramer, gauss jacobi (indireto)\n"
      ],
      "metadata": {
        "id": "Fae4Rag3L6O1"
      }
    },
    {
      "cell_type": "markdown",
      "source": [
        "#SISTEMAS LINEARES"
      ],
      "metadata": {
        "id": "zVHqs2vrdSAx"
      }
    },
    {
      "cell_type": "markdown",
      "source": [
        "# -CRAMER"
      ],
      "metadata": {
        "id": "5oN25B8-s2fq"
      }
    },
    {
      "cell_type": "code",
      "source": [
        "def determinante(A, b):\n",
        "  size = len(b)\n",
        "  # Definindo a matriz dos coeficientes\n",
        "  # A = np.array([[40,-40,0], [-1/4000,40,-1], [1,1,1]])\n",
        "\n",
        "  # Definindo o vetor constante\n",
        "  # b = np.array([15,-1/4000,60])\n",
        "\n",
        "  # Calculando o determinante da matriz dos coeficientes\n",
        "  detA = np.linalg.det(A)\n",
        "  # Calculando os determinantes secundários\n",
        "  \n",
        "  if(size >= 1): \n",
        "    detAx = np.linalg.det(np.column_stack((b, A[:, 1:])))\n",
        "    x = detAx / detA\n",
        "    if(size == 1): \n",
        "      return x\n",
        "\n",
        "  if(size >= 2):\n",
        "    detAy = np.linalg.det(np.column_stack((A[:, 0],b, A[:, 2:])))\n",
        "    y = detAy / detA\n",
        "    if(size == 2): \n",
        "      return x, y\n",
        "\n",
        "  if(size >= 3):\n",
        "     detAz = np.linalg.det(np.column_stack((A[:, 0],A[:, 1], b, A[:,3:])))\n",
        "     z = detAz / detA\n",
        "     if(size == 3): \n",
        "       return x, y, z\n",
        "\n",
        "  if(size >= 4):\n",
        "    detAw = np.linalg.det(np.column_stack((A[:, 0],A[:, 1], A[:,2], b, A[:,4:])))\n",
        "    w = detAw / detA\n",
        "    if(size == 4): \n",
        "      return x, y, z, w\n",
        "\n",
        "  if(size == 5):\n",
        "    detAk = np.linalg.det(np.column_stack((A[:, 0],A[:, 1],  A[:,2], A[:, 3], b)))\n",
        "    k = detAk / detA\n",
        "    if(size == 5): \n",
        "      return x, y, z, w, k\n",
        "\n",
        "  "
      ],
      "metadata": {
        "id": "A72JUQ1Nv6UI"
      },
      "execution_count": null,
      "outputs": []
    },
    {
      "cell_type": "code",
      "source": [
        "A = np.array([[80, 0, 30, 10], [0, 80, 10, 10], [16, 20, 60, 70], [4, 0, 0, 8]])\n",
        "b = np.array([40, 27, 31, 2])\n",
        "\n",
        "A = np.array([[80, 0, 30, 10,0], [0, 80, 10, 10,0], [16, 20, 60, 70,0], [4, 0, 0, 8,0], [1,2,3,4,5]])\n",
        "b = np.array([40, 27, 31, 2, 0])\n",
        "\n",
        "print(np.column_stack((A[:, 0],A[:, 1],  A[:,2], A[:, 3], b)))\n",
        "print(determinante(A,b))\n",
        "\n",
        "# A = np.array([[80, 0], [0, 80]])\n",
        "# b = np.array([40, 27])\n",
        "\n",
        "# print(determinante(A,b,len(b)))"
      ],
      "metadata": {
        "colab": {
          "base_uri": "https://localhost:8080/"
        },
        "id": "yIVqCq5WoYDP",
        "outputId": "72616429-e511-49e3-beb0-390cc2ddd4d6"
      },
      "execution_count": null,
      "outputs": [
        {
          "output_type": "stream",
          "name": "stdout",
          "text": [
            "[[80  0 30 10 40]\n",
            " [ 0 80 10 10 27]\n",
            " [16 20 60 70 31]\n",
            " [ 4  0  0  8  2]\n",
            " [ 1  2  3  4  0]]\n",
            "(0.3993808049535603, 0.29976780185758517, 0.2515479876160992, 0.0503095975232198, -0.3909597523219815)\n"
          ]
        }
      ]
    },
    {
      "cell_type": "markdown",
      "source": [
        "#-ITERATIVO DE GAUSS\n"
      ],
      "metadata": {
        "id": "pU49WfEP7xCY"
      }
    },
    {
      "cell_type": "code",
      "source": [
        "import numpy as np\n",
        "\n",
        "def gauss(A, b, x0, tol=1e-6, max_iter=1000):\n",
        "    n = len(A)\n",
        "    x = x0.copy()\n",
        "    for k in range(max_iter):\n",
        "        x_new = np.zeros(n)\n",
        "        for i in range(n):\n",
        "            s = sum(A[i, j] * x[j] for j in range(n) if j != i)\n",
        "            x_new[i] = (b[i] - s) / A[i, i]\n",
        "        if np.linalg.norm(x - x_new) < tol:\n",
        "            return x_new\n",
        "        x = x_new\n",
        "    return x"
      ],
      "metadata": {
        "id": "c4rbAfDD7zAt"
      },
      "execution_count": null,
      "outputs": []
    },
    {
      "cell_type": "code",
      "source": [
        "A = np.array([[11.2, 21, 2.75], [34.6, 16.7, 7], [25.2, 12.3, 71]])\n",
        "b = np.array([27,56,81])\n",
        "chute = np.array([1,0,0])\n",
        "gauss(A, b, chute, max_iter = 2)\n",
        "# x = gauss(A, b, maxiter = 100)\n",
        "# print(x)"
      ],
      "metadata": {
        "colab": {
          "base_uri": "https://localhost:8080/"
        },
        "id": "j2AiZ1sF8Dc8",
        "outputId": "44b10f0e-f57b-4f48-f0a2-0a08df03cced"
      },
      "execution_count": null,
      "outputs": [
        {
          "output_type": "execute_result",
          "data": {
            "text/plain": [
              "array([-0.18495065, -1.97078579,  0.06321582])"
            ]
          },
          "metadata": {},
          "execution_count": 162
        }
      ]
    },
    {
      "cell_type": "code",
      "source": [
        "1/16.7 * (55 - 34.6 )"
      ],
      "metadata": {
        "id": "HSLshWK0pNm_",
        "colab": {
          "base_uri": "https://localhost:8080/"
        },
        "outputId": "f1b5d8da-4207-43bd-9f7b-6e3530e3797f"
      },
      "execution_count": null,
      "outputs": [
        {
          "output_type": "execute_result",
          "data": {
            "text/plain": [
              "1.2215568862275448"
            ]
          },
          "metadata": {},
          "execution_count": 163
        }
      ]
    },
    {
      "cell_type": "markdown",
      "source": [
        "TESTES"
      ],
      "metadata": {
        "id": "juGrz6bba8up"
      }
    },
    {
      "cell_type": "code",
      "source": [
        "import sympy as sp\n",
        "\n",
        "# Definindo as variáveis do sistema\n",
        "x, y = sp.symbols('x y')\n",
        "\n",
        "# Definindo a função que descreve o sistema\n",
        "f1 = x**4 + 0.06823*x - y**4 - 0.05848*y\n",
        "f2 = x**4 + 0.08848*x - 2*y**4 - 0.11696*y\n",
        "\n",
        "# Calculando o jacobiano\n",
        "J = sp.Matrix([f1, f2]).jacobian([x, y])\n",
        "K = J * sp.Matrix([-0.01509, 0])\n",
        "# Imprimindo o jacobiano\n",
        "x_value = 100\n",
        "y_value = 0\n",
        "J_sub = K.subs([(x, x_value), (y, y_value)])\n",
        "\n",
        "print(J)\n",
        "print(J_sub)"
      ],
      "metadata": {
        "id": "wABpkJk1rDsd",
        "colab": {
          "base_uri": "https://localhost:8080/"
        },
        "outputId": "53fe91ef-9b3c-4712-e713-23435b971f1d"
      },
      "execution_count": null,
      "outputs": [
        {
          "output_type": "stream",
          "name": "stdout",
          "text": [
            "Matrix([[4*x**3 + 0.06823, -4*y**3 - 0.05848], [4*x**3 + 0.08848, -8*y**3 - 0.11696]])\n",
            "Matrix([[-60360.0010295907], [-60360.0013351632]])\n"
          ]
        }
      ]
    },
    {
      "cell_type": "code",
      "source": [],
      "metadata": {
        "id": "6eM77oFjUI44"
      },
      "execution_count": null,
      "outputs": []
    },
    {
      "cell_type": "code",
      "source": [
        "import numpy as np\n",
        "import sympy as sp\n",
        "\n",
        "# Definindo as variáveis do sistema\n",
        "x, y = sp.symbols('x y')\n",
        "\n",
        "# Definindo as funções que descrevem o sistema\n",
        "f1 = x**4 + 0.06823*x - y**4 - 0.05848*y\n",
        "f2 = x**4 + 0.08848*x - 2*y**4 - 0.11696*y\n",
        "\n",
        "# Definindo as derivadas parciais das funções\n",
        "df1dx = sp.diff(f1, x)\n",
        "df1dy = sp.diff(f1, y)\n",
        "df2dx = sp.diff(f2, x)\n",
        "df2dy = sp.diff(f2, y)\n",
        "\n",
        "# Definindo a matriz jacobiana\n",
        "J = sp.Matrix([[df1dx, df1dy], [df2dx, df2dy]])\n",
        "J\n",
        "# # Definindo a função que aplica o método de Newton\n",
        "# def newton_system(F, J, x0, tol=1e-5, max_iter=100):\n",
        "#     x = x0\n",
        "#     for i in range(max_iter):\n",
        "#         F_val = F.subs({x[0]: x_val[0], x[1]: x_val[1]})\n",
        "#         if np.linalg.norm(F_val) < tol:\n",
        "#             return x\n",
        "#         J_val = np.array(J(x)).astype(float)\n",
        "#         x = x - np.linalg.solve(J_val, F_val)\n",
        "#     return x\n",
        "\n",
        "# # Definindo a função F como um vetor das funções que descrevem o sistema\n",
        "# F = sp.Matrix([f1, f2]).T\n",
        "\n",
        "# # Definindo o ponto inicial\n",
        "# x0 = np.array([1.5, 0.5])\n",
        "\n",
        "# # Aplicando o método de Newton\n",
        "# sol = newton_system(F, J, x0)\n",
        "\n",
        "# # Imprimindo a solução\n",
        "# print(sol)"
      ],
      "metadata": {
        "id": "_nx5yrrG-3Yc",
        "colab": {
          "base_uri": "https://localhost:8080/",
          "height": 58
        },
        "outputId": "ceff77c1-65fd-417b-f1ef-61a149a91422"
      },
      "execution_count": null,
      "outputs": [
        {
          "output_type": "execute_result",
          "data": {
            "text/plain": [
              "Matrix([\n",
              "[4*x**3 + 0.06823, -4*y**3 - 0.05848],\n",
              "[4*x**3 + 0.08848, -8*y**3 - 0.11696]])"
            ],
            "text/latex": "$\\displaystyle \\left[\\begin{matrix}4 x^{3} + 0.06823 & - 4 y^{3} - 0.05848\\\\4 x^{3} + 0.08848 & - 8 y^{3} - 0.11696\\end{matrix}\\right]$"
          },
          "metadata": {},
          "execution_count": 165
        }
      ]
    },
    {
      "cell_type": "markdown",
      "source": [
        "# -NEWTON NAO LINEAR\n",
        "\n",
        "\n"
      ],
      "metadata": {
        "id": "ZXN71Llqazb-"
      }
    },
    {
      "cell_type": "code",
      "source": [
        "import sympy as sp\n",
        "\n",
        "# Definindo as variáveis do sistema\n",
        "x, y = sp.symbols('x y')\n",
        "\n",
        "# Definindo as funções que descrevem o sistema\n",
        "f1 = x + 2 * y - 3\n",
        "f2 = 3*x**2 + y**2 - 7\n",
        "\n",
        "# f1 = x**4 + 0.06823*x - y**4 - 0.05848*y \n",
        "# f2 = x**4 + 0.05848*x - 2*y**4 - 0.11696*y\n",
        "\n",
        "# Calculando o jacobiano das funções\n",
        "J = sp.Matrix([[sp.diff(f, var) for var in [x, y]] for f in [f1, f2]])\n",
        "\n",
        "# Definindo a matriz A e o vetor b\n",
        "A = J.subs([(x, 1), (y, 1)])\n",
        "A = np.array(A.tolist(), dtype=float).reshape(A.shape)\n",
        "\n",
        "b = sp.Matrix([-f1.subs([(x, 1), (y, 1)]), -f2.subs([(x, 1), (y, 1)])])\n",
        "b = np.array(b.tolist(), dtype=float).reshape(b.shape)\n",
        "x0 = np.array([1,1])\n",
        "\n",
        "print(J)\n",
        "print(A)\n",
        "print(b)\n",
        "# print(gauss(A, b, x0, max_iter = 1))\n",
        "\n",
        "# determinante(A,b)"
      ],
      "metadata": {
        "colab": {
          "base_uri": "https://localhost:8080/"
        },
        "id": "4MY0q-AebCZD",
        "outputId": "7c9754ff-d102-42f9-fd85-0bc4c7032b09"
      },
      "execution_count": null,
      "outputs": [
        {
          "output_type": "stream",
          "name": "stdout",
          "text": [
            "Matrix([[1, 2], [6*x, 2*y]])\n",
            "[[1. 2.]\n",
            " [6. 2.]]\n",
            "[[0.]\n",
            " [3.]]\n"
          ]
        }
      ]
    },
    {
      "cell_type": "code",
      "source": [
        "from numpy.linalg import inv\n",
        "\n",
        "def newton_raphson(f, J, x0, eps=1e-6, max_iter=100):\n",
        "    x = np.array(x0, dtype=np.float64)\n",
        "    for i in range(max_iter):\n",
        "        f_val = f(x)\n",
        "        J_val = J(x)\n",
        "        delta_x = inv(J_val).dot(-f_val)\n",
        "        x = x + delta_x\n",
        "\n",
        "        if np.linalg.norm(delta_x) < eps:\n",
        "            return x\n",
        "\n",
        "    return x\n",
        "\n",
        "  # Define as funções f1 e f2 e calcula a matriz jacobiana J\n",
        "\n",
        "#   x[0] = x, x[1] = y, x[2] = z\n",
        "def f(x):\n",
        "    return np.array([x[0] + 2*x[1] - 3, 3*x[0]**2 + x[1]**2 -7])\n",
        "\n",
        "def J(x):\n",
        "    return np.array([[1,2], [6*x[0], 2*x[1]]])\n",
        "\n",
        "# Define as estimativas iniciais das raízes\n",
        "x0 = [1,1]\n",
        "\n",
        "# Chama a função de Newton-Raphson\n",
        "x = newton_raphson(f, J, x0, max_iter = 1)\n",
        "x"
      ],
      "metadata": {
        "colab": {
          "base_uri": "https://localhost:8080/"
        },
        "id": "Kgif54jfm2qw",
        "outputId": "d38ae11e-6ec0-4200-a540-5880c790cdd6"
      },
      "execution_count": null,
      "outputs": [
        {
          "output_type": "execute_result",
          "data": {
            "text/plain": [
              "array([1.6, 0.7])"
            ]
          },
          "metadata": {},
          "execution_count": 167
        }
      ]
    }
  ]
}